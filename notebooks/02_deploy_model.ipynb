{
 "cells": [
  {
   "cell_type": "code",
   "execution_count": 0,
   "metadata": {
    "application/vnd.databricks.v1+cell": {
     "cellMetadata": {
      "byteLimit": 2048000,
      "rowLimit": 10000
     },
     "inputWidgets": {},
     "nuid": "4645713f-a12a-4b44-a240-fcf10853b359",
     "showTitle": false,
     "tableResultSettingsMap": {},
     "title": ""
    },
    "jupyter": {
     "outputs_hidden": true
    }
   },
   "outputs": [
    {
     "output_type": "stream",
     "name": "stdout",
     "output_type": "stream",
     "text": [
      "Collecting loguru\n  Obtaining dependency information for loguru from https://files.pythonhosted.org/packages/0c/29/0348de65b8cc732daa3e33e67806420b2ae89bdce2b04af740289c5c6c8c/loguru-0.7.3-py3-none-any.whl.metadata\n  Downloading loguru-0.7.3-py3-none-any.whl.metadata (22 kB)\nDownloading loguru-0.7.3-py3-none-any.whl (61 kB)\n\u001B[?25l   \u001B[90m━━━━━━━━━━━━━━━━━━━━━━━━━━━━━━━━━━━━━━━━\u001B[0m \u001B[32m0.0/61.6 kB\u001B[0m \u001B[31m?\u001B[0m eta \u001B[36m-:--:--\u001B[0m\n\u001B[2K   \u001B[91m━━━━━━━━━━━━━━━━━━━━━━━━━━━━━━━━━━━━━━━\u001B[0m\u001B[91m╸\u001B[0m \u001B[32m61.4/61.6 kB\u001B[0m \u001B[31m3.5 MB/s\u001B[0m eta \u001B[36m0:00:01\u001B[0m\n\u001B[2K   \u001B[90m━━━━━━━━━━━━━━━━━━━━━━━━━━━━━━━━━━━━━━━━\u001B[0m \u001B[32m61.6/61.6 kB\u001B[0m \u001B[31m909.8 kB/s\u001B[0m eta \u001B[36m0:00:00\u001B[0m\n\u001B[?25hInstalling collected packages: loguru\nSuccessfully installed loguru-0.7.3\n\u001B[43mNote: you may need to restart the kernel using %restart_python or dbutils.library.restartPython() to use updated packages.\u001B[0m\n"
     ]
    }
   ],
   "source": [
    "# pip install loguru"
   ]
  },
  {
   "cell_type": "code",
   "execution_count": 0,
   "metadata": {
    "application/vnd.databricks.v1+cell": {
     "cellMetadata": {
      "byteLimit": 2048000,
      "rowLimit": 10000
     },
     "inputWidgets": {},
     "nuid": "1408a73f-1ba8-42bd-9fc3-5fb1d98dfe6f",
     "showTitle": false,
     "tableResultSettingsMap": {},
     "title": ""
    }
   },
   "outputs": [
    {
     "output_type": "stream",
     "name": "stdout",
     "output_type": "stream",
     "text": [
      "['/databricks/python_shell/scripts', '/local_disk0/spark-5459f246-a352-4f35-bcac-facdaef40796/userFiles-875db54d-0af0-461c-9480-1e7037dd728e', '/databricks/spark/python', '/databricks/spark/python/lib/py4j-0.10.9.7-src.zip', '/databricks/jars/spark--driver--driver-spark_3.5_2.12_deploy.jar', '/databricks/python_shell/lib', '/usr/lib/python311.zip', '/usr/lib/python3.11', '/usr/lib/python3.11/lib-dynload', '/local_disk0/.ephemeral_nfs/envs/pythonEnv-93a24c64-c1ab-477b-9037-059fbf947c5f/lib/python3.11/site-packages', '/local_disk0/.ephemeral_nfs/cluster_libraries/python/lib/python3.11/site-packages', '/databricks/python/lib/python3.11/site-packages', '/usr/local/lib/python3.11/dist-packages', '/usr/lib/python3/dist-packages', '/databricks/.python_edge_libs', '', '/Workspace/Users/opolo.holtz@amaris.com/.bundle/marvelous-databricks-course-OpoloHOLTZ/dev/files/notebooks', '/Workspace/Users/opolo.holtz@amaris.com/.bundle/marvelous-databricks-course-OpoloHOLTZ/dev/files/src']\n"
     ]
    }
   ],
   "source": [
    "import sys\n",
    "\n",
    "repo_path = \"/Workspace/Users/opolo.holtz@amaris.com/.bundle/marvelous-databricks-course-OpoloHOLTZ/dev/files/src\"\n",
    "sys.path.append(repo_path)\n",
    "\n",
    "# Vérifier que le chemin est bien pris en compte\n",
    "print(sys.path)"
   ]
  },
  {
   "cell_type": "code",
   "execution_count": 0,
   "metadata": {
    "application/vnd.databricks.v1+cell": {
     "cellMetadata": {
      "byteLimit": 2048000,
      "rowLimit": 10000
     },
     "inputWidgets": {},
     "nuid": "de41c60c-6fba-4173-a09e-06cc376404a6",
     "showTitle": false,
     "tableResultSettingsMap": {},
     "title": ""
    }
   },
   "outputs": [],
   "source": [
    "import os\n",
    "import time\n",
    "from typing import List, Dict\n",
    "\n",
    "import requests\n",
    "from pyspark.dbutils import DBUtils\n",
    "from pyspark.sql import SparkSession\n",
    "\n",
    "from defaultccc.config import ProjectConfig\n",
    "from defaultccc.serving.model_serving import ModelServing\n",
    "\n",
    "# spark session\n",
    "spark = SparkSession.builder.getOrCreate()\n",
    "dbutils = DBUtils(spark)\n",
    "\n",
    "# get environment variables\n",
    "os.environ[\"DBR_TOKEN\"] = dbutils.notebook.entry_point.getDbutils().notebook().getContext().apiToken().get()\n",
    "os.environ[\"DBR_HOST\"] = spark.conf.get(\"spark.databricks.workspaceUrl\")\n",
    "\n",
    "# Load project config\n",
    "config = ProjectConfig.from_yaml(config_path=\"../project_config.yml\")\n",
    "catalog_name = config.catalog_name\n",
    "schema_name = config.schema_name"
   ]
  },
  {
   "cell_type": "code",
   "execution_count": 0,
   "metadata": {
    "application/vnd.databricks.v1+cell": {
     "cellMetadata": {
      "byteLimit": 2048000,
      "rowLimit": 10000
     },
     "inputWidgets": {},
     "nuid": "c1ac6fd0-0355-4617-ac53-8324fc6c6efb",
     "showTitle": false,
     "tableResultSettingsMap": {},
     "title": ""
    }
   },
   "outputs": [],
   "source": [
    "# Initialize feature store manager\n",
    "model_serving = ModelServing(\n",
    "    model_name=f\"{catalog_name}.{schema_name}.default_ccc_model_basic\", endpoint_name=\"default_ccc-model-serving\"\n",
    ")"
   ]
  },
  {
   "cell_type": "code",
   "execution_count": 0,
   "metadata": {
    "application/vnd.databricks.v1+cell": {
     "cellMetadata": {
      "byteLimit": 2048000,
      "rowLimit": 10000
     },
     "inputWidgets": {},
     "nuid": "c87a12bc-49e1-499c-80f5-20cf2e5946dd",
     "showTitle": false,
     "tableResultSettingsMap": {},
     "title": ""
    }
   },
   "outputs": [
    {
     "output_type": "stream",
     "name": "stderr",
     "output_type": "stream",
     "text": [
      "\u001B[32m2025-03-06 15:22:40.870\u001B[0m | \u001B[1mINFO    \u001B[0m | \u001B[36mdefaultccc.serving.model_serving\u001B[0m:\u001B[36mget_latest_model_version\u001B[0m:\u001B[36m24\u001B[0m - \u001B[1mLatest model version: 1\u001B[0m\n"
     ]
    }
   ],
   "source": [
    "# Deploy the model serving endpoint\n",
    "model_serving.deploy_or_update_serving_endpoint()"
   ]
  },
  {
   "cell_type": "code",
   "execution_count": 0,
   "metadata": {
    "application/vnd.databricks.v1+cell": {
     "cellMetadata": {
      "byteLimit": 2048000,
      "rowLimit": 10000
     },
     "inputWidgets": {},
     "nuid": "a92783f7-be8e-49ab-8754-44f12cf665bf",
     "showTitle": false,
     "tableResultSettingsMap": {},
     "title": ""
    }
   },
   "outputs": [],
   "source": [
    "# Create a sample request body\n",
    "required_columns = config.num_features + config.cat_features\n",
    "\n",
    "# Sample 1000 records from the training set\n",
    "test_set = spark.table(f\"{config.catalog_name}.{config.schema_name}.test_set\").toPandas()\n",
    "\n",
    "# Sample 100 records from the training set\n",
    "sampled_records = test_set[required_columns].sample(n=100, replace=True).to_dict(orient=\"records\")\n",
    "dataframe_records = [[record] for record in sampled_records]\n"
   ]
  },
  {
   "cell_type": "code",
   "execution_count": 0,
   "metadata": {
    "application/vnd.databricks.v1+cell": {
     "cellMetadata": {
      "byteLimit": 2048000,
      "rowLimit": 10000
     },
     "inputWidgets": {},
     "nuid": "4c3685db-38e9-4041-af26-52c7e4deb68f",
     "showTitle": false,
     "tableResultSettingsMap": {},
     "title": ""
    }
   },
   "outputs": [
    {
     "output_type": "execute_result",
     "data": {
      "text/plain": [
       "[{'LIMIT_BAL': 380000,\n",
       "  'BILL_AMT1': 0,\n",
       "  'BILL_AMT2': 292,\n",
       "  'BILL_AMT3': 7352,\n",
       "  'BILL_AMT4': 3401,\n",
       "  'BILL_AMT5': 1042,\n",
       "  'BILL_AMT6': 4000,\n",
       "  'PAY_AMT1': 292,\n",
       "  'PAY_AMT2': 7352,\n",
       "  'PAY_AMT3': 3401,\n",
       "  'PAY_AMT4': 1042,\n",
       "  'PAY_AMT5': 4000,\n",
       "  'PAY_AMT6': 5000,\n",
       "  'AGE': '20-30',\n",
       "  'SEX': 2,\n",
       "  'EDUCATION': 1,\n",
       "  'MARRIAGE': 2,\n",
       "  'PAY_0': -2,\n",
       "  'PAY_2': -2,\n",
       "  'PAY_3': -2,\n",
       "  'PAY_4': -2,\n",
       "  'PAY_5': -2,\n",
       "  'PAY_6': -2}]"
      ]
     },
     "execution_count": 13,
     "metadata": {},
     "output_type": "execute_result"
    }
   ],
   "source": [
    "dataframe_records[0]"
   ]
  },
  {
   "cell_type": "code",
   "execution_count": 0,
   "metadata": {
    "application/vnd.databricks.v1+cell": {
     "cellMetadata": {
      "byteLimit": 2048000,
      "rowLimit": 10000
     },
     "inputWidgets": {},
     "nuid": "e5bda4b0-bd20-44f1-a976-88abab5e15a7",
     "showTitle": false,
     "tableResultSettingsMap": {},
     "title": ""
    }
   },
   "outputs": [
    {
     "output_type": "execute_result",
     "data": {
      "text/plain": [
       "(200, {'predictions': [0]})"
      ]
     },
     "execution_count": 14,
     "metadata": {},
     "output_type": "execute_result"
    }
   ],
   "source": [
    "model_serving.call_endpoint(dataframe_records[0])"
   ]
  },
  {
   "cell_type": "code",
   "execution_count": 0,
   "metadata": {
    "application/vnd.databricks.v1+cell": {
     "cellMetadata": {
      "byteLimit": 2048000,
      "rowLimit": 10000
     },
     "inputWidgets": {},
     "nuid": "18c2211b-2c02-41c5-916a-044737206ea7",
     "showTitle": false,
     "tableResultSettingsMap": {},
     "title": ""
    }
   },
   "outputs": [
    {
     "output_type": "stream",
     "name": "stderr",
     "output_type": "stream",
     "text": [
      "\u001B[32m2025-03-07 09:35:31.315\u001B[0m | \u001B[1mINFO    \u001B[0m | \u001B[36mdefaultccc.serving.model_serving\u001B[0m:\u001B[36mevaluate_serving_model\u001B[0m:\u001B[36m86\u001B[0m - \u001B[1mEvaluating the deployed model via the serving endpoint...\u001B[0m\n\u001B[32m2025-03-07 09:35:31.832\u001B[0m | \u001B[1mINFO    \u001B[0m | \u001B[36mdefaultccc.serving.model_serving\u001B[0m:\u001B[36mevaluate_serving_model\u001B[0m:\u001B[36m103\u001B[0m - \u001B[1mServing Model Evaluation: {'accuracy': 0.78, 'precision': 0.391304347826087, 'recall': 0.5294117647058824, 'f1_score': 0.45, 'roc_auc': 0.6803685329553507, 'confusion_matrix': [[69, 14], [8, 9]]}\u001B[0m\n"
     ]
    },
    {
     "output_type": "execute_result",
     "data": {
      "text/plain": [
       "{'accuracy': 0.78,\n",
       " 'precision': 0.391304347826087,\n",
       " 'recall': 0.5294117647058824,\n",
       " 'f1_score': 0.45,\n",
       " 'roc_auc': 0.6803685329553507,\n",
       " 'confusion_matrix': [[69, 14], [8, 9]]}"
      ]
     },
     "execution_count": 16,
     "metadata": {},
     "output_type": "execute_result"
    }
   ],
   "source": [
    "model_serving.evaluate_serving_model(test_set[required_columns + [config.target]].sample(n=100, replace=True), config.target)"
   ]
  }
 ],
 "metadata": {
  "application/vnd.databricks.v1+notebook": {
   "computePreferences": null,
   "dashboards": [],
   "environmentMetadata": {
    "base_environment": "",
    "environment_version": "2"
   },
   "language": "python",
   "notebookMetadata": {
    "pythonIndentUnit": 4
   },
   "notebookName": "02_deploy_model",
   "widgets": {}
  },
  "kernelspec": {
   "display_name": ".venv",
   "language": "python",
   "name": "python3"
  },
  "language_info": {
   "name": "python"
  }
 },
 "nbformat": 4,
 "nbformat_minor": 0
}